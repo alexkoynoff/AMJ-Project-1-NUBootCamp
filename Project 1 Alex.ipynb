{
 "cells": [
  {
   "cell_type": "code",
   "execution_count": 133,
   "metadata": {},
   "outputs": [],
   "source": [
    "%matplotlib inline"
   ]
  },
  {
   "cell_type": "code",
   "execution_count": 134,
   "metadata": {},
   "outputs": [],
   "source": [
    "import gmaps\n",
    "import numpy as np\n",
    "import pandas as pd\n",
    "import requests\n",
    "import time\n",
    "from us import states\n",
    "import matplotlib.pyplot as plt\n",
    "from matplotlib.pyplot import figure\n",
    "import json\n",
    "#from api_keys import api_key"
   ]
  },
  {
   "cell_type": "code",
   "execution_count": 163,
   "metadata": {},
   "outputs": [],
   "source": [
    "median_price_by_state = pd.read_csv(r\"C:\\Users\\alexk\\OneDrive\\Desktop\\Github Folders\\AMJ-Project-1-NUBootCamp\\StateMedianIHomePrice2017.csv\")\n",
    "\n",
    "median_income_by_state = pd.read_csv(r\"C:\\Users\\alexk\\OneDrive\\Desktop\\Github Folders\\AMJ-Project-1-NUBootCamp\\StateMedianIncome2017.csv\")\n",
    "\n",
    "zip_code_coordinates = pd.read_csv(r\"C:\\Users\\alexk\\OneDrive\\Desktop\\Github Folders\\AMJ-Project-1-NUBootCamp\\ZipCodeCoordinates.csv\")\n",
    "\n",
    "price_change_by_zip = pd.read_csv(r\"C:\\Users\\alexk\\OneDrive\\Desktop\\Github Folders\\AMJ-Project-1-NUBootCamp\\ZipCodeHomepriceincrease.csv\")\n",
    "\n"
   ]
  },
  {
   "cell_type": "code",
   "execution_count": 136,
   "metadata": {},
   "outputs": [
    {
     "data": {
      "text/html": [
       "<div>\n",
       "<style scoped>\n",
       "    .dataframe tbody tr th:only-of-type {\n",
       "        vertical-align: middle;\n",
       "    }\n",
       "\n",
       "    .dataframe tbody tr th {\n",
       "        vertical-align: top;\n",
       "    }\n",
       "\n",
       "    .dataframe thead th {\n",
       "        text-align: right;\n",
       "    }\n",
       "</style>\n",
       "<table border=\"1\" class=\"dataframe\">\n",
       "  <thead>\n",
       "    <tr style=\"text-align: right;\">\n",
       "      <th></th>\n",
       "      <th>State</th>\n",
       "      <th>Median Home Price</th>\n",
       "    </tr>\n",
       "  </thead>\n",
       "  <tbody>\n",
       "    <tr>\n",
       "      <th>0</th>\n",
       "      <td>Alabama</td>\n",
       "      <td>130500</td>\n",
       "    </tr>\n",
       "    <tr>\n",
       "      <th>1</th>\n",
       "      <td>Alaska</td>\n",
       "      <td>305800</td>\n",
       "    </tr>\n",
       "    <tr>\n",
       "      <th>2</th>\n",
       "      <td>Arizona</td>\n",
       "      <td>252300</td>\n",
       "    </tr>\n",
       "  </tbody>\n",
       "</table>\n",
       "</div>"
      ],
      "text/plain": [
       "     State  Median Home Price\n",
       "0  Alabama             130500\n",
       "1   Alaska             305800\n",
       "2  Arizona             252300"
      ]
     },
     "execution_count": 136,
     "metadata": {},
     "output_type": "execute_result"
    }
   ],
   "source": [
    "median_price_by_state.head(3)"
   ]
  },
  {
   "cell_type": "code",
   "execution_count": 137,
   "metadata": {},
   "outputs": [
    {
     "data": {
      "text/html": [
       "<div>\n",
       "<style scoped>\n",
       "    .dataframe tbody tr th:only-of-type {\n",
       "        vertical-align: middle;\n",
       "    }\n",
       "\n",
       "    .dataframe tbody tr th {\n",
       "        vertical-align: top;\n",
       "    }\n",
       "\n",
       "    .dataframe thead th {\n",
       "        text-align: right;\n",
       "    }\n",
       "</style>\n",
       "<table border=\"1\" class=\"dataframe\">\n",
       "  <thead>\n",
       "    <tr style=\"text-align: right;\">\n",
       "      <th></th>\n",
       "      <th>State</th>\n",
       "      <th>Median Household Income</th>\n",
       "    </tr>\n",
       "  </thead>\n",
       "  <tbody>\n",
       "    <tr>\n",
       "      <th>0</th>\n",
       "      <td>Maryland</td>\n",
       "      <td>81084</td>\n",
       "    </tr>\n",
       "    <tr>\n",
       "      <th>1</th>\n",
       "      <td>Washington</td>\n",
       "      <td>75418</td>\n",
       "    </tr>\n",
       "    <tr>\n",
       "      <th>2</th>\n",
       "      <td>New Hampshire</td>\n",
       "      <td>74801</td>\n",
       "    </tr>\n",
       "  </tbody>\n",
       "</table>\n",
       "</div>"
      ],
      "text/plain": [
       "           State  Median Household Income\n",
       "0       Maryland                    81084\n",
       "1     Washington                    75418\n",
       "2  New Hampshire                    74801"
      ]
     },
     "execution_count": 137,
     "metadata": {},
     "output_type": "execute_result"
    }
   ],
   "source": [
    "median_income_by_state.head(3)"
   ]
  },
  {
   "cell_type": "code",
   "execution_count": 138,
   "metadata": {},
   "outputs": [
    {
     "data": {
      "text/html": [
       "<div>\n",
       "<style scoped>\n",
       "    .dataframe tbody tr th:only-of-type {\n",
       "        vertical-align: middle;\n",
       "    }\n",
       "\n",
       "    .dataframe tbody tr th {\n",
       "        vertical-align: top;\n",
       "    }\n",
       "\n",
       "    .dataframe thead th {\n",
       "        text-align: right;\n",
       "    }\n",
       "</style>\n",
       "<table border=\"1\" class=\"dataframe\">\n",
       "  <thead>\n",
       "    <tr style=\"text-align: right;\">\n",
       "      <th></th>\n",
       "      <th>State</th>\n",
       "      <th>Median Home Price</th>\n",
       "      <th>Median Household Income</th>\n",
       "    </tr>\n",
       "  </thead>\n",
       "  <tbody>\n",
       "    <tr>\n",
       "      <th>0</th>\n",
       "      <td>Alabama</td>\n",
       "      <td>130500</td>\n",
       "      <td>51113</td>\n",
       "    </tr>\n",
       "    <tr>\n",
       "      <th>1</th>\n",
       "      <td>Alaska</td>\n",
       "      <td>305800</td>\n",
       "      <td>72231</td>\n",
       "    </tr>\n",
       "    <tr>\n",
       "      <th>2</th>\n",
       "      <td>Arizona</td>\n",
       "      <td>252300</td>\n",
       "      <td>61125</td>\n",
       "    </tr>\n",
       "  </tbody>\n",
       "</table>\n",
       "</div>"
      ],
      "text/plain": [
       "     State  Median Home Price  Median Household Income\n",
       "0  Alabama             130500                    51113\n",
       "1   Alaska             305800                    72231\n",
       "2  Arizona             252300                    61125"
      ]
     },
     "execution_count": 138,
     "metadata": {},
     "output_type": "execute_result"
    }
   ],
   "source": [
    "price_income = pd.merge(median_price_by_state, median_income_by_state, on=[\"State\"])\n",
    "\n",
    "price_income.head(3)"
   ]
  },
  {
   "cell_type": "code",
   "execution_count": 169,
   "metadata": {},
   "outputs": [
    {
     "data": {
      "image/png": "[encoded data removed]",
      "text/plain": [
       "<Figure size 432x288 with 1 Axes>"
      ]
     },
     "metadata": {
      "needs_background": "light"
     },
     "output_type": "display_data"
    }
   ],
   "source": [
    "#This scatter plot wills how a relationship between median household income and median home price. \n",
    "\n",
    "plt.scatter(price_income[\"Median Household Income\"],price_income[\"Median Home Price\"], marker = \"o\", \n",
    "            facecolors=\"blue\", edgecolor=\"black\")\n",
    "\n",
    "plt.title(\"Income vs Home Price\")\n",
    "plt.xlabel(\"Median Household Income\")\n",
    "plt.ylabel(\"Median Home Price\")\n",
    "plt.axhline(226300, color = \"red\",ls = \"--\", alpha =1, label=\"US Median Home Price\")\n",
    "plt.axvline(61372, color = \"red\",ls = \"--\", alpha =1, label=\"US Median Home Price\")\n",
    "plt.text(74500,617900,\"Hawaii\")\n",
    "plt.text(82000,300000,\"Maryland\")\n",
    "plt.text(84000,581000,\"Washington D.C.\")\n",
    "plt.text(70500,550000,\"California\")\n",
    "#plt.text(35500,226300,\"226300\", color = \"red\")\n",
    "plt.text(43000,570000,\"Median Price: $226,300\", color = \"red\")\n",
    "plt.text(43000,530000,\"Median Income: $61,372\", color = \"red\")\n",
    "plt.xticks(rotation=90)\n",
    "plt.grid(True)\n",
    "\n",
    "plt.show()"
   ]
  },
  {
   "cell_type": "code",
   "execution_count": 170,
   "metadata": {},
   "outputs": [
    {
     "data": {
      "text/html": [
       "<div>\n",
       "<style scoped>\n",
       "    .dataframe tbody tr th:only-of-type {\n",
       "        vertical-align: middle;\n",
       "    }\n",
       "\n",
       "    .dataframe tbody tr th {\n",
       "        vertical-align: top;\n",
       "    }\n",
       "\n",
       "    .dataframe thead th {\n",
       "        text-align: right;\n",
       "    }\n",
       "</style>\n",
       "<table border=\"1\" class=\"dataframe\">\n",
       "  <thead>\n",
       "    <tr style=\"text-align: right;\">\n",
       "      <th></th>\n",
       "      <th>State</th>\n",
       "      <th>Median Home Price</th>\n",
       "      <th>Median Household Income</th>\n",
       "      <th>Price to Income</th>\n",
       "    </tr>\n",
       "  </thead>\n",
       "  <tbody>\n",
       "    <tr>\n",
       "      <th>0</th>\n",
       "      <td>Alabama</td>\n",
       "      <td>130500</td>\n",
       "      <td>51113</td>\n",
       "      <td>2.553167</td>\n",
       "    </tr>\n",
       "    <tr>\n",
       "      <th>1</th>\n",
       "      <td>Alaska</td>\n",
       "      <td>305800</td>\n",
       "      <td>72231</td>\n",
       "      <td>4.233639</td>\n",
       "    </tr>\n",
       "    <tr>\n",
       "      <th>2</th>\n",
       "      <td>Arizona</td>\n",
       "      <td>252300</td>\n",
       "      <td>61125</td>\n",
       "      <td>4.127607</td>\n",
       "    </tr>\n",
       "    <tr>\n",
       "      <th>3</th>\n",
       "      <td>Arkansas</td>\n",
       "      <td>126200</td>\n",
       "      <td>48829</td>\n",
       "      <td>2.584530</td>\n",
       "    </tr>\n",
       "    <tr>\n",
       "      <th>4</th>\n",
       "      <td>California</td>\n",
       "      <td>548800</td>\n",
       "      <td>69759</td>\n",
       "      <td>7.867085</td>\n",
       "    </tr>\n",
       "  </tbody>\n",
       "</table>\n",
       "</div>"
      ],
      "text/plain": [
       "        State  Median Home Price  Median Household Income  Price to Income\n",
       "0     Alabama             130500                    51113         2.553167\n",
       "1      Alaska             305800                    72231         4.233639\n",
       "2     Arizona             252300                    61125         4.127607\n",
       "3    Arkansas             126200                    48829         2.584530\n",
       "4  California             548800                    69759         7.867085"
      ]
     },
     "execution_count": 170,
     "metadata": {},
     "output_type": "execute_result"
    }
   ],
   "source": [
    "price_income[\"Price to Income\"] = (price_income[\"Median Home Price\"]/price_income[\"Median Household Income\"])\n",
    "\n",
    "price_income.head()"
   ]
  },
  {
   "cell_type": "code",
   "execution_count": null,
   "metadata": {},
   "outputs": [],
   "source": []
  },
  {
   "cell_type": "code",
   "execution_count": 162,
   "metadata": {},
   "outputs": [
    {
     "data": {
      "text/plain": [
       "<Figure size 1440x360 with 0 Axes>"
      ]
     },
     "execution_count": 162,
     "metadata": {},
     "output_type": "execute_result"
    },
    {
     "data": {
      "image/png": "[encoded data removed]",
      "text/plain": [
       "<Figure size 432x288 with 1 Axes>"
      ]
     },
     "metadata": {
      "needs_background": "light"
     },
     "output_type": "display_data"
    },
    {
     "data": {
      "text/plain": [
       "<Figure size 1440x360 with 0 Axes>"
      ]
     },
     "metadata": {},
     "output_type": "display_data"
    }
   ],
   "source": [
    "\n",
    "x_axis = np.arange(len(price_income))\n",
    "tick_locations = [value+0.5 for value in x_axis]\n",
    "plt.bar(x_axis,price_income[\"Price to Income\"])\n",
    "plt.xticks(tick_locations, price_income[\"State\"], rotation=\"vertical\")\n",
    "\n",
    "plt.figure(figsize=(20,5))\n",
    "\n",
    "#plt.show()"
   ]
  },
  {
   "cell_type": "code",
   "execution_count": 146,
   "metadata": {},
   "outputs": [
    {
     "data": {
      "text/html": [
       "<div>\n",
       "<style scoped>\n",
       "    .dataframe tbody tr th:only-of-type {\n",
       "        vertical-align: middle;\n",
       "    }\n",
       "\n",
       "    .dataframe tbody tr th {\n",
       "        vertical-align: top;\n",
       "    }\n",
       "\n",
       "    .dataframe thead th {\n",
       "        text-align: right;\n",
       "    }\n",
       "</style>\n",
       "<table border=\"1\" class=\"dataframe\">\n",
       "  <thead>\n",
       "    <tr style=\"text-align: right;\">\n",
       "      <th></th>\n",
       "      <th>Zip Code</th>\n",
       "      <th>Latitude</th>\n",
       "      <th>Longitude</th>\n",
       "    </tr>\n",
       "  </thead>\n",
       "  <tbody>\n",
       "    <tr>\n",
       "      <th>0</th>\n",
       "      <td>99553</td>\n",
       "      <td>54.1430</td>\n",
       "      <td>-165.7854</td>\n",
       "    </tr>\n",
       "    <tr>\n",
       "      <th>1</th>\n",
       "      <td>99571</td>\n",
       "      <td>55.1858</td>\n",
       "      <td>-162.7211</td>\n",
       "    </tr>\n",
       "    <tr>\n",
       "      <th>2</th>\n",
       "      <td>99583</td>\n",
       "      <td>54.8542</td>\n",
       "      <td>-163.4113</td>\n",
       "    </tr>\n",
       "  </tbody>\n",
       "</table>\n",
       "</div>"
      ],
      "text/plain": [
       "   Zip Code  Latitude  Longitude\n",
       "0     99553   54.1430  -165.7854\n",
       "1     99571   55.1858  -162.7211\n",
       "2     99583   54.8542  -163.4113"
      ]
     },
     "execution_count": 146,
     "metadata": {},
     "output_type": "execute_result"
    }
   ],
   "source": [
    "zip_code_coordinates.head(3)"
   ]
  },
  {
   "cell_type": "code",
   "execution_count": 165,
   "metadata": {},
   "outputs": [
    {
     "data": {
      "text/html": [
       "<div>\n",
       "<style scoped>\n",
       "    .dataframe tbody tr th:only-of-type {\n",
       "        vertical-align: middle;\n",
       "    }\n",
       "\n",
       "    .dataframe tbody tr th {\n",
       "        vertical-align: top;\n",
       "    }\n",
       "\n",
       "    .dataframe thead th {\n",
       "        text-align: right;\n",
       "    }\n",
       "</style>\n",
       "<table border=\"1\" class=\"dataframe\">\n",
       "  <thead>\n",
       "    <tr style=\"text-align: right;\">\n",
       "      <th></th>\n",
       "      <th>State Code</th>\n",
       "      <th>State</th>\n",
       "      <th>Zip Code</th>\n",
       "      <th>City</th>\n",
       "      <th>Beginning 2000</th>\n",
       "      <th>End 2018</th>\n",
       "      <th>% Increase</th>\n",
       "    </tr>\n",
       "  </thead>\n",
       "  <tbody>\n",
       "    <tr>\n",
       "      <th>0</th>\n",
       "      <td>NY</td>\n",
       "      <td>New York</td>\n",
       "      <td>10025</td>\n",
       "      <td>New York</td>\n",
       "      <td>305100</td>\n",
       "      <td>1051300</td>\n",
       "      <td>344.58</td>\n",
       "    </tr>\n",
       "    <tr>\n",
       "      <th>1</th>\n",
       "      <td>IL</td>\n",
       "      <td>Illinois</td>\n",
       "      <td>60657</td>\n",
       "      <td>Chicago</td>\n",
       "      <td>212600</td>\n",
       "      <td>353200</td>\n",
       "      <td>166.13</td>\n",
       "    </tr>\n",
       "    <tr>\n",
       "      <th>2</th>\n",
       "      <td>NY</td>\n",
       "      <td>New York</td>\n",
       "      <td>10023</td>\n",
       "      <td>New York</td>\n",
       "      <td>516100</td>\n",
       "      <td>1373100</td>\n",
       "      <td>266.05</td>\n",
       "    </tr>\n",
       "  </tbody>\n",
       "</table>\n",
       "</div>"
      ],
      "text/plain": [
       "  State Code     State  Zip Code      City   Beginning 2000    End 2018   \\\n",
       "0         NY  New York     10025  New York            305100     1051300   \n",
       "1         IL  Illinois     60657   Chicago            212600      353200   \n",
       "2         NY  New York     10023  New York            516100     1373100   \n",
       "\n",
       "   % Increase  \n",
       "0      344.58  \n",
       "1      166.13  \n",
       "2      266.05  "
      ]
     },
     "execution_count": 165,
     "metadata": {},
     "output_type": "execute_result"
    }
   ],
   "source": [
    "price_change_by_zip.head(3)\n",
    "\n"
   ]
  },
  {
   "cell_type": "code",
   "execution_count": null,
   "metadata": {},
   "outputs": [],
   "source": []
  },
  {
   "cell_type": "code",
   "execution_count": 166,
   "metadata": {},
   "outputs": [
    {
     "data": {
      "text/html": [
       "<div>\n",
       "<style scoped>\n",
       "    .dataframe tbody tr th:only-of-type {\n",
       "        vertical-align: middle;\n",
       "    }\n",
       "\n",
       "    .dataframe tbody tr th {\n",
       "        vertical-align: top;\n",
       "    }\n",
       "\n",
       "    .dataframe thead th {\n",
       "        text-align: right;\n",
       "    }\n",
       "</style>\n",
       "<table border=\"1\" class=\"dataframe\">\n",
       "  <thead>\n",
       "    <tr style=\"text-align: right;\">\n",
       "      <th></th>\n",
       "      <th>State Code</th>\n",
       "      <th>State</th>\n",
       "      <th>Zip Code</th>\n",
       "      <th>City</th>\n",
       "      <th>Beginning 2000</th>\n",
       "      <th>End 2018</th>\n",
       "      <th>% Increase</th>\n",
       "      <th>Latitude</th>\n",
       "      <th>Longitude</th>\n",
       "    </tr>\n",
       "  </thead>\n",
       "  <tbody>\n",
       "    <tr>\n",
       "      <th>0</th>\n",
       "      <td>NY</td>\n",
       "      <td>New York</td>\n",
       "      <td>10025</td>\n",
       "      <td>New York</td>\n",
       "      <td>305100</td>\n",
       "      <td>1051300</td>\n",
       "      <td>344.58</td>\n",
       "      <td>40.7975</td>\n",
       "      <td>-73.9683</td>\n",
       "    </tr>\n",
       "    <tr>\n",
       "      <th>1</th>\n",
       "      <td>IL</td>\n",
       "      <td>Illinois</td>\n",
       "      <td>60657</td>\n",
       "      <td>Chicago</td>\n",
       "      <td>212600</td>\n",
       "      <td>353200</td>\n",
       "      <td>166.13</td>\n",
       "      <td>41.9399</td>\n",
       "      <td>-87.6528</td>\n",
       "    </tr>\n",
       "    <tr>\n",
       "      <th>2</th>\n",
       "      <td>NY</td>\n",
       "      <td>New York</td>\n",
       "      <td>10023</td>\n",
       "      <td>New York</td>\n",
       "      <td>516100</td>\n",
       "      <td>1373100</td>\n",
       "      <td>266.05</td>\n",
       "      <td>40.7764</td>\n",
       "      <td>-73.9827</td>\n",
       "    </tr>\n",
       "    <tr>\n",
       "      <th>3</th>\n",
       "      <td>TX</td>\n",
       "      <td>Texas</td>\n",
       "      <td>77494</td>\n",
       "      <td>Katy</td>\n",
       "      <td>311700</td>\n",
       "      <td>335900</td>\n",
       "      <td>107.76</td>\n",
       "      <td>29.7404</td>\n",
       "      <td>-95.8304</td>\n",
       "    </tr>\n",
       "    <tr>\n",
       "      <th>4</th>\n",
       "      <td>IL</td>\n",
       "      <td>Illinois</td>\n",
       "      <td>60614</td>\n",
       "      <td>Chicago</td>\n",
       "      <td>257500</td>\n",
       "      <td>432400</td>\n",
       "      <td>167.92</td>\n",
       "      <td>41.9229</td>\n",
       "      <td>-87.6483</td>\n",
       "    </tr>\n",
       "  </tbody>\n",
       "</table>\n",
       "</div>"
      ],
      "text/plain": [
       "  State Code     State  Zip Code      City   Beginning 2000    End 2018   \\\n",
       "0         NY  New York     10025  New York            305100     1051300   \n",
       "1         IL  Illinois     60657   Chicago            212600      353200   \n",
       "2         NY  New York     10023  New York            516100     1373100   \n",
       "3         TX     Texas     77494      Katy            311700      335900   \n",
       "4         IL  Illinois     60614   Chicago            257500      432400   \n",
       "\n",
       "   % Increase  Latitude  Longitude  \n",
       "0      344.58   40.7975   -73.9683  \n",
       "1      166.13   41.9399   -87.6528  \n",
       "2      266.05   40.7764   -73.9827  \n",
       "3      107.76   29.7404   -95.8304  \n",
       "4      167.92   41.9229   -87.6483  "
      ]
     },
     "execution_count": 166,
     "metadata": {},
     "output_type": "execute_result"
    }
   ],
   "source": [
    "price_change_w_coordinates = pd.merge(price_change_by_zip, zip_code_coordinates, on=[\"Zip Code\"])\n",
    "\n",
    "price_change_w_coordinates.head()"
   ]
  },
  {
   "cell_type": "code",
   "execution_count": null,
   "metadata": {},
   "outputs": [],
   "source": []
  }
 ],
 "metadata": {
  "kernelspec": {
   "display_name": "Python 3",
   "language": "python",
   "name": "python3"
  },
  "language_info": {
   "codemirror_mode": {
    "name": "ipython",
    "version": 3
   },
   "file_extension": ".py",
   "mimetype": "text/x-python",
   "name": "python",
   "nbconvert_exporter": "python",
   "pygments_lexer": "ipython3",
   "version": "3.7.1"
  }
 },
 "nbformat": 4,
 "nbformat_minor": 2
}
